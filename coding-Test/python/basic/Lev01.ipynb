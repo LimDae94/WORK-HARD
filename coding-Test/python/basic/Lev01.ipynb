{
 "cells": [
  {
   "cell_type": "markdown",
   "id": "395838eb",
   "metadata": {},
   "source": [
    "# 2775\n",
    "평소 반상회에 참석하는 것을 좋아하는 주희는 이번 기회에 부녀회장이 되고 싶어 각 층의 사람들을 불러 모아 반상회를 주최하려고 한다.\n",
    "\n",
    "<br>\n",
    "\n",
    "이 아파트에 거주를 하려면 조건이 있는데, “a층의 b호에 살려면 자신의 아래(a-1)층의 1호부터 b호까지 사람들의 수의 합만큼 사람들을 데려와 살아야 한다” 는 계약 조항을 꼭 지키고 들어와야 한다.\n",
    "\n",
    "<br>\n",
    "\n",
    "아파트에 비어있는 집은 없고 모든 거주민들이 이 계약 조건을 지키고 왔다고 가정했을 때, 주어지는 양의 정수 k와 n에 대해 k층에 n호에는 몇 명이 살고 있는지 출력하라. 단, 아파트에는 0층부터 있고 각층에는 1호부터 있으며, 0층의 i호에는 i명이 산다.\n",
    "\n",
    "<br>\n",
    "\n",
    "# 입력\n",
    "첫 번째 줄에 Test case의 수 T가 주어진다. 그리고 각각의 케이스마다 입력으로 첫 번째 줄에 정수 k, 두 번째 줄에 정수 n이 주어진다\n",
    "\n",
    "<br>\n",
    "\n",
    "# 출력\n",
    "각각의 Test case에 대해서 해당 집에 거주민 수를 출력하라.\n",
    "\n",
    "<br>\n",
    "\n",
    "# 제한\n",
    "1 ≤ k, n ≤ 14\n"
   ]
  },
  {
   "cell_type": "code",
   "execution_count": 64,
   "id": "b41fb80d",
   "metadata": {},
   "outputs": [
    {
     "name": "stdout",
     "output_type": "stream",
     "text": [
      "1\n",
      "4\n",
      "5\n",
      "[1, 3, 6, 10, 15]\n",
      "[1, 4, 10, 20, 35]\n",
      "[1, 5, 15, 35, 70]\n",
      "[1, 6, 21, 56, 126]\n",
      "126\n"
     ]
    }
   ],
   "source": [
    "T = int(input()) \n",
    "\n",
    "for _ in range(T):\n",
    "    floor = int(input()) # 마지막 층의 수를 입력합니다.\n",
    "    room = int(input()) # 마지막 방의 호 수를 입력합니다.\n",
    "    building = [x for x in range(1, room+1)]\n",
    "    \n",
    "    for i in range(floor): #층 수 만큼 반복을 합니다.\n",
    "        for j in range(1, room): # 방의 호 수마다 인원 수 변경\n",
    "            building[j] += building[j-1]\n",
    "        print(building)\n",
    "    print(building[-1])"
   ]
  },
  {
   "cell_type": "markdown",
   "id": "85b75b39",
   "metadata": {},
   "source": [
    "# 2839\n",
    "상근이는 요즘 설탕공장에서 설탕을 배달하고 있다. 상근이는 지금 사탕가게에 설탕을 정확하게 N킬로그램을 배달해야 한다. 설탕공장에서 만드는 설탕은 봉지에 담겨져 있다. 봉지는 3킬로그램 봉지와 5킬로그램 봉지가 있다.\n",
    "\n",
    "상근이는 귀찮기 때문에, 최대한 적은 봉지를 들고 가려고 한다. 예를 들어, 18킬로그램 설탕을 배달해야 할 때, 3킬로그램 봉지 6개를 가져가도 되지만, 5킬로그램 3개와 3킬로그램 1개를 배달하면, 더 적은 개수의 봉지를 배달할 수 있다.\n",
    "\n",
    "상근이가 설탕을 정확하게 N킬로그램 배달해야 할 때, 봉지 몇 개를 가져가면 되는지 그 수를 구하는 프로그램을 작성하시오.\n",
    "\n",
    "# 입력\n",
    "첫째 줄에 N이 주어진다. (3 ≤ N ≤ 5000)\n",
    "\n",
    "# 출력\n",
    "상근이가 배달하는 봉지의 최소 개수를 출력한다. 만약, 정확하게 N킬로그램을 만들 수 없다면 -1을 출력한다."
   ]
  },
  {
   "cell_type": "code",
   "execution_count": 95,
   "id": "7c68da17",
   "metadata": {},
   "outputs": [
    {
     "name": "stdout",
     "output_type": "stream",
     "text": [
      "31\n",
      "7\n"
     ]
    }
   ],
   "source": [
    "weight = int(input())\n",
    "\n",
    "count = 0\n",
    "\n",
    "while weight >= 0:\n",
    "    if weight % 5 == 0:\n",
    "        count += (weight // 5)\n",
    "        print(count)\n",
    "        break\n",
    "    weight -= 3\n",
    "    count += 1\n",
    "else:\n",
    "    print(-1)"
   ]
  },
  {
   "cell_type": "code",
   "execution_count": null,
   "id": "158b7110",
   "metadata": {},
   "outputs": [],
   "source": []
  },
  {
   "cell_type": "code",
   "execution_count": null,
   "id": "76e69e14",
   "metadata": {},
   "outputs": [],
   "source": []
  },
  {
   "cell_type": "code",
   "execution_count": null,
   "id": "32e5de1a",
   "metadata": {},
   "outputs": [],
   "source": []
  },
  {
   "cell_type": "code",
   "execution_count": null,
   "id": "f1577484",
   "metadata": {},
   "outputs": [],
   "source": []
  },
  {
   "cell_type": "code",
   "execution_count": null,
   "id": "f98a38b2",
   "metadata": {},
   "outputs": [],
   "source": []
  },
  {
   "cell_type": "code",
   "execution_count": null,
   "id": "eae4d448",
   "metadata": {},
   "outputs": [],
   "source": []
  },
  {
   "cell_type": "code",
   "execution_count": null,
   "id": "9ce9f003",
   "metadata": {},
   "outputs": [],
   "source": []
  }
 ],
 "metadata": {
  "kernelspec": {
   "display_name": "Python 3 (ipykernel)",
   "language": "python",
   "name": "python3"
  },
  "language_info": {
   "codemirror_mode": {
    "name": "ipython",
    "version": 3
   },
   "file_extension": ".py",
   "mimetype": "text/x-python",
   "name": "python",
   "nbconvert_exporter": "python",
   "pygments_lexer": "ipython3",
   "version": "3.9.12"
  }
 },
 "nbformat": 4,
 "nbformat_minor": 5
}
