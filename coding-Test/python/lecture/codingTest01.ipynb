{
 "cells": [
  {
   "cell_type": "markdown",
   "id": "e716c9cf",
   "metadata": {},
   "source": [
    "# 1"
   ]
  },
  {
   "cell_type": "code",
   "execution_count": null,
   "id": "1e999476",
   "metadata": {},
   "outputs": [],
   "source": [
    "def solution(n):\n",
    "    answer = 0\n",
    "    \n",
    "    for i in range(2, n + 1):\n",
    "        flag = True\n",
    "        for j in range(2, i):\n",
    "            if i % j == 0:\n",
    "                flag = False\n",
    "                break\n",
    "        \n",
    "        if(flag):\n",
    "            answer += 1\n",
    "\n",
    "    return answer"
   ]
  },
  {
   "cell_type": "markdown",
   "id": "caa722ab",
   "metadata": {},
   "source": [
    "# 2"
   ]
  },
  {
   "cell_type": "code",
   "execution_count": null,
   "id": "fdecd9eb",
   "metadata": {},
   "outputs": [],
   "source": [
    "def solution(names):\n",
    "    deno, mole = 1, 1\n",
    "    namesLen = len(set(names))\n",
    "\n",
    "    for i in range(namesLen, namesLen-4, -1):\n",
    "        deno *= i\n",
    "    for i in range(1, 4+1):\n",
    "        mole *= i\n",
    "\n",
    "    answer = deno//mole\n",
    "    return answer"
   ]
  },
  {
   "cell_type": "markdown",
   "id": "c56f909d",
   "metadata": {},
   "source": [
    "# 3"
   ]
  },
  {
   "cell_type": "code",
   "execution_count": null,
   "id": "3353ac96",
   "metadata": {},
   "outputs": [],
   "source": [
    "def solution(N):\n",
    "    temp = [0] * (N+2)\n",
    "    temp[1], temp[2] = 1, 1\n",
    "\n",
    "    for i in range(3, N+2):\n",
    "        temp[i] = temp[i-1] + temp[i-2]\n",
    "    \n",
    "    answer = temp[N+1]\n",
    "    return answer"
   ]
  },
  {
   "cell_type": "markdown",
   "id": "2c658c6e",
   "metadata": {},
   "source": [
    "# 4"
   ]
  },
  {
   "cell_type": "code",
   "execution_count": null,
   "id": "bd1b0892",
   "metadata": {},
   "outputs": [],
   "source": []
  },
  {
   "cell_type": "markdown",
   "id": "e66c3602",
   "metadata": {},
   "source": [
    "# 5"
   ]
  },
  {
   "cell_type": "code",
   "execution_count": null,
   "id": "e6a3f9ce",
   "metadata": {},
   "outputs": [],
   "source": [
    "import math\n",
    "\n",
    "def solution(N, M, K, capacity):\n",
    "    answer = 1\n",
    "    answer = math.factorial(K) // math.factorial(K-M)\n",
    "    \n",
    "    for i in capacity:\n",
    "        answer *= math.factorial(N) // (math.factorial(N - i) * math.factorial(i))\n",
    "        N -= i\n",
    "    \n",
    "    \n",
    "    return answer"
   ]
  },
  {
   "cell_type": "code",
   "execution_count": null,
   "id": "372a7376",
   "metadata": {},
   "outputs": [],
   "source": []
  },
  {
   "cell_type": "code",
   "execution_count": null,
   "id": "e20adca8",
   "metadata": {},
   "outputs": [],
   "source": []
  },
  {
   "cell_type": "code",
   "execution_count": null,
   "id": "00ea6871",
   "metadata": {},
   "outputs": [],
   "source": []
  }
 ],
 "metadata": {
  "kernelspec": {
   "display_name": "Python 3 (ipykernel)",
   "language": "python",
   "name": "python3"
  },
  "language_info": {
   "codemirror_mode": {
    "name": "ipython",
    "version": 3
   },
   "file_extension": ".py",
   "mimetype": "text/x-python",
   "name": "python",
   "nbconvert_exporter": "python",
   "pygments_lexer": "ipython3",
   "version": "3.9.12"
  }
 },
 "nbformat": 4,
 "nbformat_minor": 5
}
