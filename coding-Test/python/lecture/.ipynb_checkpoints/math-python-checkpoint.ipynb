{
 "cells": [
  {
   "cell_type": "markdown",
   "id": "4e4c5d54",
   "metadata": {},
   "source": [
    "# 약수 출력 프로그램\n",
    "> 나머지가 0이면 됩니다."
   ]
  },
  {
   "cell_type": "code",
   "execution_count": 4,
   "id": "3659aa99",
   "metadata": {},
   "outputs": [
    {
     "name": "stdout",
     "output_type": "stream",
     "text": [
      "0보다 큰 정수 입력:30\n",
      "30의 약수 : 1\n",
      "30의 약수 : 2\n",
      "30의 약수 : 3\n",
      "30의 약수 : 5\n",
      "30의 약수 : 6\n",
      "30의 약수 : 10\n",
      "30의 약수 : 15\n",
      "30의 약수 : 30\n"
     ]
    }
   ],
   "source": [
    "inputNumber = int(input(\"0보다 큰 정수 입력(약수 출력): \"))\n",
    "\n",
    "for i in range(1, inputNumber+ 1):\n",
    "    if inputNumber % i == 0:\n",
    "        print(f\"{inputNumber}의 약수 : {i}\")"
   ]
  },
  {
   "cell_type": "markdown",
   "id": "98f455ef",
   "metadata": {},
   "source": [
    "# 소수 출력 프로그램\n",
    "> 나누어 떨어지지 않을 때, flag를 기준으로 출력을 지정합니다. <br>\n",
    "> 11 % 1, 13 % 1, 7 % 1, ... 1로 나눈 나머지는 모두 0이라는 사실, 알고 있어야 합니다."
   ]
  },
  {
   "cell_type": "code",
   "execution_count": 3,
   "id": "5ade69c2",
   "metadata": {},
   "outputs": [
    {
     "name": "stdout",
     "output_type": "stream",
     "text": [
      "0보다 큰 정수 입력(소수 출력): 30\n",
      "2 : 소수!!\n",
      "3 : 소수!!\n",
      "4 : 합성수!!\n",
      "5 : 소수!!\n",
      "6 : 합성수!!\n",
      "7 : 소수!!\n",
      "8 : 합성수!!\n",
      "9 : 합성수!!\n",
      "10 : 합성수!!\n",
      "11 : 소수!!\n",
      "12 : 합성수!!\n",
      "13 : 소수!!\n",
      "14 : 합성수!!\n",
      "15 : 합성수!!\n",
      "16 : 합성수!!\n",
      "17 : 소수!!\n",
      "18 : 합성수!!\n",
      "19 : 소수!!\n",
      "20 : 합성수!!\n",
      "21 : 합성수!!\n",
      "22 : 합성수!!\n",
      "23 : 소수!!\n",
      "24 : 합성수!!\n",
      "25 : 합성수!!\n",
      "26 : 합성수!!\n",
      "27 : 합성수!!\n",
      "28 : 합성수!!\n",
      "29 : 소수!!\n",
      "30 : 합성수!!\n"
     ]
    }
   ],
   "source": [
    "inputNumber = int(input(\"0보다 큰 정수 입력(소수 출력): \"))\n",
    "\n",
    "for i in range(2, inputNumber + 1):\n",
    "    flag = True\n",
    "    for j in range(2, i):\n",
    "        if i % j == 0:\n",
    "            flag = False\n",
    "            break\n",
    "    \n",
    "    if(flag):\n",
    "        print(f\"{i} : 소수!!\")\n",
    "    else:\n",
    "        print(f\"{i} : 합성수!!\")"
   ]
  },
  {
   "cell_type": "markdown",
   "id": "890dcf92",
   "metadata": {},
   "source": [
    "# 소인수분해 기초\n",
    "> 약수(인수) 중에서 소수인 숫자를 소인수라고 합니다. <br>\n",
    "> 1보다 큰 정수를 소인수의 곱으로 나타낸 것을 소인수분해라고 합니다!<br>\n",
    "> 20의 약수로 알아볼까요? 1, 2, 4, 5, 10, 20 중에서, 소수는 2, 5 입니다. <br>\n",
    "> 맞습니다! 소인수는 바로 2, 5가 되는 것입니다. :)"
   ]
  },
  {
   "cell_type": "code",
   "execution_count": 8,
   "id": "89f79b17",
   "metadata": {},
   "outputs": [
    {
     "name": "stdout",
     "output_type": "stream",
     "text": [
      "1보다 큰 정수 입력(소인수분해): 20\n",
      "소인수: 2\n",
      "소인수: 2\n",
      "소인수: 5\n"
     ]
    }
   ],
   "source": [
    "inputNumber = int(input(\"1보다 큰 정수 입력(소인수분해): \"))\n",
    "\n",
    "n = 2\n",
    "while n <= inputNumber:\n",
    "    if inputNumber % n == 0:\n",
    "        print(f\"소인수: {n}\")\n",
    "        inputNumber /= n\n",
    "    else:\n",
    "        n+= 1\n",
    "        "
   ]
  },
  {
   "cell_type": "markdown",
   "id": "1de45c50",
   "metadata": {},
   "source": [
    "# 소인수분해 응용\n",
    "72는 x를 곱하면 y의 제곱이 된다고 할때, x에 해당하는 가장 작은 정수를 구하자."
   ]
  },
  {
   "cell_type": "code",
   "execution_count": 12,
   "id": "0c8476f8",
   "metadata": {},
   "outputs": [
    {
     "name": "stdout",
     "output_type": "stream",
     "text": [
      "1보다 큰 정수 입력(소인수분해): 10\n",
      "소인수: 2\n",
      "소인수: 5\n",
      "[2, 5]\n"
     ]
    }
   ],
   "source": [
    "inputNumber = int(input(\"1보다 큰 정수 입력(소인수분해): \"))\n",
    "\n",
    "n = 2\n",
    "searchNumbers = []\n",
    "\n",
    "while n <= inputNumber:\n",
    "    if inputNumber % n == 0:\n",
    "        print(f\"소인수: {n}\")\n",
    "        if searchNumbers.count(n) == 0:\n",
    "            searchNumbers.append(n)\n",
    "        elif searchNumbers.count(n) == 1:\n",
    "            searchNumbers.remove(n)\n",
    "        inputNumber /= n\n",
    "    else:\n",
    "        n+= 1\n",
    "print(searchNumbers)"
   ]
  },
  {
   "cell_type": "markdown",
   "id": "6ac17341",
   "metadata": {},
   "source": [
    "# 최대공약수\n",
    "> 두 개 이상의 수에서 공통된 약수를 공약수라고 합니다. <br>\n",
    "> 12의 약수 ➡️ 1, 2, 3, 4, 6, 12<br>\n",
    "> 20의 약수 ➡️ 1, 2, 4, 5, 10, 20<br>\n",
    "> 12, 20의 공약수 ➡️ 1, 2, 4<br>\n",
    "\n",
    "> 공약수 중 가장 큰 수를 최대공약수라고 합니다.<br>\n",
    "> 12, 20의 최대공약수 ➡️ 4<br>"
   ]
  },
  {
   "cell_type": "code",
   "execution_count": 8,
   "id": "62858e96",
   "metadata": {
    "scrolled": true
   },
   "outputs": [
    {
     "name": "stdout",
     "output_type": "stream",
     "text": [
      "1보다 큰 정수 입력: 10\n",
      "1보다 큰 정수 입력: 20\n",
      "공약수: 1\n",
      "공약수: 2\n",
      "공약수: 5\n",
      "공약수: 10\n",
      "최대공약수 : 10\n"
     ]
    }
   ],
   "source": [
    "num1 = int(input(\"1보다 큰 정수 입력(최대공약수): \"))\n",
    "num2 = int(input(\"1보다 큰 정수 입력(최대공약수): \"))\n",
    "maxNum = 0\n",
    "\n",
    "for i in range(1, num1 + 1):\n",
    "    if num1 % i == 0 and num2 % i == 0:\n",
    "        print(f\"공약수: {i}\")\n",
    "        maxNum = i\n",
    "        \n",
    "print(f\"최대공약수 : {maxNum}\")"
   ]
  },
  {
   "cell_type": "markdown",
   "id": "6af6fd63",
   "metadata": {},
   "source": [
    "# 최대공약수 응용 1"
   ]
  },
  {
   "cell_type": "code",
   "execution_count": 11,
   "id": "4c3dd9c1",
   "metadata": {},
   "outputs": [
    {
     "name": "stdout",
     "output_type": "stream",
     "text": [
      "1보다 큰 정수 입력(최대공약수): 12\n",
      "1보다 큰 정수 입력(최대공약수): 54\n",
      "1보다 큰 정수 입력(최대공약수): 72\n",
      "공약수: 1\n",
      "공약수: 2\n",
      "공약수: 3\n",
      "공약수: 6\n",
      "최대공약수: 6\n"
     ]
    }
   ],
   "source": [
    "num1 = int(input(\"1보다 큰 정수 입력(최대공약수): \"))\n",
    "num2 = int(input(\"1보다 큰 정수 입력(최대공약수): \"))\n",
    "num3 = int(input(\"1보다 큰 정수 입력(최대공약수): \"))\n",
    "maxNum = 0\n",
    "\n",
    "for i in range(1, num1 + 1):\n",
    "    if num1 % i == 0 and num2 % i == 0 and num3 % i == 0:\n",
    "        print(f\"공약수: {i}\")\n",
    "        maxNum = i\n",
    "        \n",
    "print(f\"최대공약수: {maxNum}\")"
   ]
  },
  {
   "cell_type": "markdown",
   "id": "866f8f45",
   "metadata": {},
   "source": [
    "# 최대공약수 응용 2\n",
    "> 빵 112개와 우유 80개를 학생들한테 남김없이 동일하게 나누어 주려고 할 때, <br>\n",
    "최대 몇 명의 학생이 빵과 우유를 받을 수 있는지 계산해 보자.<br> \n",
    "그리고, 학생 한 명이 받게 되는 빵과 우유의 개수를 계산해 보자.<br>\n",
    "\n",
    "\n",
    ">• 112와 36의 최대공약수➡️(16명)<br>\n",
    "• 학생 한 명이 받게 되는 빵과 우유 개수➡️(빵: 7개, 우유: 5개)<br>"
   ]
  },
  {
   "cell_type": "code",
   "execution_count": 22,
   "id": "ded5bc78",
   "metadata": {},
   "outputs": [
    {
     "name": "stdout",
     "output_type": "stream",
     "text": [
      "동일하게 받을 수 있는 학생의 수 : 16\n",
      "빵: 7개 우유: 5개\n"
     ]
    }
   ],
   "source": [
    "bread = 112\n",
    "milk = 80\n",
    "maxNum = 0\n",
    "\n",
    "for i in range(1, milk + 1):\n",
    "    if bread % i == 0 and milk % i == 0:\n",
    "        maxNum = i\n",
    "        \n",
    "print(f\"동일하게 받을 수 있는 학생의 수 : {maxNum}\")\n",
    "print(f\"빵: {bread//maxNum}개 우유: {milk//maxNum}개\")"
   ]
  },
  {
   "attachments": {
    "image.png": {
     "image/png": "[encoded data removed]"
    }
   },
   "cell_type": "markdown",
   "id": "1bcdfd86",
   "metadata": {},
   "source": [
    "# 최대공약수의 응용3\n",
    "\n",
    "<br>\n",
    "\n",
    "## 유클리드 호제법\n",
    "> 유클리드 호제법을 이용해서 최대공약수를 구할 수 있습니다. <br>\n",
    "\n",
    "<div algin=center>\n",
    "    \n",
    "<img src=\"attachment:image.png\" width=\"600\" height=\"600\">\n",
    "</div>"
   ]
  },
  {
   "cell_type": "code",
   "execution_count": 30,
   "id": "68cdc6f4",
   "metadata": {},
   "outputs": [
    {
     "name": "stdout",
     "output_type": "stream",
     "text": [
      "1보다 큰 정수 입력: 52\n",
      "1보다 큰 정수 입력: 98\n",
      "52, 98의 최대 공약수: 2\n",
      "52, 98의 공약수 : 1\n",
      "52, 98의 공약수 : 2\n"
     ]
    }
   ],
   "source": [
    "num1 = int(input(\"1보다 큰 정수 입력: \"))\n",
    "num2 = int(input(\"1보다 큰 정수 입력: \"))\n",
    "\n",
    "temp1 = num1\n",
    "temp2 = num2\n",
    "\n",
    "while temp2 > 0:\n",
    "    temp = temp2\n",
    "    temp2 = temp1 % temp2\n",
    "    temp1 = temp\n",
    "\n",
    "print(f\"{num1}, {num2}의 최대 공약수: {temp1}\")\n",
    "\n",
    "for n in range(1, temp1 + 1):\n",
    "    if temp1 % n == 0:\n",
    "        print(f\"{num1}, {num2}의 공약수 : {n}\")"
   ]
  },
  {
   "cell_type": "markdown",
   "id": "9d2165f0",
   "metadata": {},
   "source": [
    "# 최소공배수\n",
    "> 두 개 이상의 수에서 공통된 배수를 공배수라고 합니다. <br>\n",
    "> 3의 배수 ➡️ 3, 6, 9, 12, 15, 18, 21, 24, 27, 30, ... <br>\n",
    "> 5의 배수 ➡️ 5, 10, 15, 20, 25, 30, 35, 40, 45, ... <br>\n",
    "> 3, 5의 공배수 ➡️ 15, 30, ... <br>\n",
    "\n",
    "> 소인수분해를 이용하면 최소공배수 및 공배수를 구할 수 있습니다. <br>\n",
    "> 좀 더 편리하게 최소공배수를 구하는 방법은 소수로 나눗셈을 하는 것입니다. <br>"
   ]
  },
  {
   "cell_type": "code",
   "execution_count": 33,
   "id": "6977eb8d",
   "metadata": {},
   "outputs": [
    {
     "name": "stdout",
     "output_type": "stream",
     "text": [
      "1보다 큰 정수 입력(최대공약수): 10\n",
      "1보다 큰 정수 입력(최대공약수): 12\n",
      "공약수: 1\n",
      "공약수: 2\n",
      "최대공약수: 2\n",
      "최소공배수: 60\n"
     ]
    }
   ],
   "source": [
    "num1 = int(input(\"1보다 큰 정수 입력(최대공약수): \"))\n",
    "num2 = int(input(\"1보다 큰 정수 입력(최대공약수): \"))\n",
    "maxNum = 0\n",
    "\n",
    "for i in range(1, num1 + 1):\n",
    "    if num1 % i == 0 and num2 % i == 0:\n",
    "        print(f\"공약수: {i}\")\n",
    "        maxNum = i\n",
    "        \n",
    "print(f\"최대공약수: {maxNum}\")\n",
    "\n",
    "minNum = (num1 * num2) // maxNum\n",
    "print(f\"최소공배수: {minNum}\")"
   ]
  },
  {
   "cell_type": "markdown",
   "id": "21e13ae6",
   "metadata": {},
   "source": [
    "# 최소공배수 응용 1\n",
    "> 세 개의 수를 입력하면 최소공배수를 출력하는 코드를 작성합니다. <br>\n",
    "> 두 개의 수에 대한 최소공배수를 구한 후, 다시 세 번째 수의 공배수를 구합니다.<br>"
   ]
  },
  {
   "cell_type": "code",
   "execution_count": 34,
   "id": "32592505",
   "metadata": {},
   "outputs": [
    {
     "name": "stdout",
     "output_type": "stream",
     "text": [
      "1보다 큰 정수 입력(최대공약수): 6\n",
      "1보다 큰 정수 입력(최대공약수): 12\n",
      "1보다 큰 정수 입력(최대공약수): 18\n",
      "공약수: 1\n",
      "공약수: 2\n",
      "공약수: 3\n",
      "공약수: 6\n",
      "최대공약수: 6\n",
      "6, 12의 최소공배수: 12\n",
      "최대공약수: {maxNum}\n",
      "6, 12, 18의 최소공배수: 36\n"
     ]
    }
   ],
   "source": [
    "num1 = int(input(\"1보다 큰 정수 입력(최대공약수): \"))\n",
    "num2 = int(input(\"1보다 큰 정수 입력(최대공약수): \"))\n",
    "num3 = int(input(\"1보다 큰 정수 입력(최대공약수): \"))\n",
    "maxNum = 0\n",
    "\n",
    "for i in range(1, num1 + 1):\n",
    "    if num1 % i == 0 and num2 % i == 0:\n",
    "        print(f\"공약수: {i}\")\n",
    "        maxNum = i\n",
    "        \n",
    "print(f\"최대공약수: {maxNum}\")\n",
    "\n",
    "minNum = (num1 * num2) // maxNum\n",
    "print(f\"{num1}, {num2}의 최소공배수: {minNum}\")\n",
    "\n",
    "newNum = minNum\n",
    "\n",
    "for i in range(1, newNum + 1):\n",
    "    if newNum % i == 0 and num3 % i == 0:\n",
    "        maxNum = i\n",
    "\n",
    "print(\"최대공약수: {maxNum}\")\n",
    "minNum = (newNum * num3) // maxNum\n",
    "print(f\"{num1}, {num2}, {num3}의 최소공배수: {minNum}\")"
   ]
  },
  {
   "cell_type": "markdown",
   "id": "38467f95",
   "metadata": {},
   "source": [
    "# 최소공배수 응용 2\n",
    "> 섬마을에 과일, 생선, 야채를 판매하는 배가 다음 주기로 입항한다고 할 때, 모든 배가 입항하는 날짜를 계산해 보자.<br>\n",
    "> 과일 선박 : 3일 주기 / 생선 선박: 4일 주기/ 야채 선박: 5일 주기 <br>"
   ]
  },
  {
   "cell_type": "code",
   "execution_count": 40,
   "id": "ad7cd483",
   "metadata": {},
   "outputs": [
    {
     "name": "stdout",
     "output_type": "stream",
     "text": [
      "최대공약수: 1\n",
      "3, 4의 최소 공배수: 12\n",
      "최대공약수: 1\n",
      "3, 4, 5의 최소 공배수: 60\n"
     ]
    }
   ],
   "source": [
    "ship1 = 3\n",
    "ship2 = 4\n",
    "ship3 = 5\n",
    "\n",
    "maxDay = 0\n",
    "\n",
    "for i in range(1, ship1+1):\n",
    "    if ship1 % i == 0 and ship2 % i == 0:\n",
    "        maxDay = i\n",
    "\n",
    "print(f\"최대공약수: {maxDay}\")\n",
    "\n",
    "minDay = (ship1 * ship2) // maxDay\n",
    "print(f\"{ship1}, {ship2}의 최소 공배수: {minDay}\")\n",
    "\n",
    "\n",
    "\n",
    "newDay = minDay\n",
    "\n",
    "for i in range(1, newDay+1):\n",
    "    if newDay % i == 0 and ship3 % i == 0:\n",
    "        maxDay = i\n",
    "\n",
    "print(f\"최대공약수: {maxDay}\")\n",
    "\n",
    "minDay = (newDay * ship3) // maxDay\n",
    "print(f\"{ship1}, {ship2}, {ship3}의 최소 공배수: {minDay}\")\n"
   ]
  },
  {
   "cell_type": "markdown",
   "id": "edf133e1",
   "metadata": {},
   "source": [
    "# 진법\n",
    "> 진법이란, 특정 숫자 몇 개를 사용하여 수를 표시하는 방법입니다. <br>\n",
    "> 2진법 ➡️ 0, 1 <br>\n",
    "> 8진법 ➡️ 0, 1, 2, 3, 4, 5, 6, 7 <br>\n",
    "> 10진법 ➡️ 0, 1, 2, 3, 4, 5, 6, 7, 8, 9, 10 <br>\n",
    "> 16진법 ➡️ 0, 1, 2, 3, 4, 5, 6, 7, 8, 9, 10, A, B, C, D, E, F <br>"
   ]
  },
  {
   "cell_type": "code",
   "execution_count": 14,
   "id": "4096fa0f",
   "metadata": {},
   "outputs": [
    {
     "name": "stdout",
     "output_type": "stream",
     "text": [
      "2진수  = 0b11110\n",
      "8진수  = 0o36\n",
      "16진수  = 0x1e\n",
      "====================\n",
      "2진수  = 11110\n",
      "8진수  = 36\n",
      "16진수  = 1e\n"
     ]
    }
   ],
   "source": [
    "dNum = 30\n",
    "\n",
    "print(f\"2진수  = {format(dNum, '#b')}\")\n",
    "print(f\"8진수  = {format(dNum, '#o')}\")\n",
    "print(f\"16진수  = {format(dNum, '#x')}\")\n",
    "print(\"=\"* 20)\n",
    "print(f\"2진수  = {format(dNum, 'b')}\")\n",
    "print(f\"8진수  = {format(dNum, 'o')}\")\n",
    "print(f\"16진수  = {format(dNum, 'x')}\")"
   ]
  },
  {
   "cell_type": "markdown",
   "id": "670aa383",
   "metadata": {},
   "source": [
    "## x진수를 10진수로 변환"
   ]
  },
  {
   "cell_type": "code",
   "execution_count": 35,
   "id": "7fa3e2cc",
   "metadata": {},
   "outputs": [
    {
     "name": "stdout",
     "output_type": "stream",
     "text": [
      "2진수(0b11110) \t->\t 10진수 (30)\n",
      "8진수(0o36) \t->\t 10진수 (30)\n",
      "16진수(0x1e) \t->\t 10진수 (30)\n",
      "========================================\n",
      "2진수(0b11110) -> 8진수 (0o36)\n",
      "2진수(0b11110) -> 10진수 (30)\n",
      "2진수(0b11110) -> 16진수 (0x1e)\n",
      "========================================\n",
      "8진수(0o36) \t->\t 2진수 (0b11110)\n",
      "8진수(0o36) \t->\t 10진수 (30)\n",
      "8진수(0o36) \t->\t 16진수 (0x1e)\n",
      "========================================\n",
      "16진수(0x1e) \t->\t 2진수 (0b11110)\n",
      "16진수(0x1e) \t->\t 8진수 (0o36)\n",
      "16진수(0x1e) \t->\t 10진수 (30)\n"
     ]
    }
   ],
   "source": [
    "print(\"2진수(0b11110) \\t->\\t 10진수 ({})\".format(int('0b11110', 2)))\n",
    "print(\"8진수(0o36) \\t->\\t 10진수 ({})\".format(int('0o36', 8)))\n",
    "print(\"16진수(0x1e) \\t->\\t 10진수 ({})\".format(int('0x1e', 16)))\n",
    "\n",
    "print(\"=\" * 40)\n",
    "\n",
    "print(\"2진수(0b11110) -> 8진수 ({})\".format(oct(0b11110)))\n",
    "print(\"2진수(0b11110) -> 10진수 ({})\".format(int(0b11110)))\n",
    "print(\"2진수(0b11110) -> 16진수 ({})\".format(hex(0b11110)))\n",
    "\n",
    "print(\"=\" * 40)\n",
    "\n",
    "print(\"8진수(0o36) \\t->\\t 2진수 ({})\".format(bin(0o36)))\n",
    "print(\"8진수(0o36) \\t->\\t 10진수 ({})\".format(int(0o36)))\n",
    "print(\"8진수(0o36) \\t->\\t 16진수 ({})\".format(hex(0o36)))\n",
    "\n",
    "print(\"=\" * 40)\n",
    "\n",
    "print(\"16진수(0x1e) \\t->\\t 2진수 ({})\".format(bin(0x1e)))\n",
    "print(\"16진수(0x1e) \\t->\\t 8진수 ({})\".format(oct(0x1e)))\n",
    "print(\"16진수(0x1e) \\t->\\t 10진수 ({})\".format(int(0x1e)))"
   ]
  },
  {
   "cell_type": "markdown",
   "id": "d2eb1f21",
   "metadata": {},
   "source": [
    "# 등차 수열\n",
    "\n",
    "- 등차 수열의 합 ➡️ `len(a)*(a[0]+a[len(a)-1])//2`\n",
    "- 일반항(마지막 인덱스의 값) ➡️ `a1+(len(a)-1)*(a[1]-a[0])`"
   ]
  },
  {
   "cell_type": "code",
   "execution_count": 43,
   "id": "6d99a583",
   "metadata": {},
   "outputs": [],
   "source": [
    "a = [2, 5, 8, 11, 14, 17, 20, 23, 26, 29]\n",
    "\n",
    "a1 = a[0]\n",
    "an = a[len(a)-1]\n",
    "\n",
    "normal = a1+(len(a)-1)*(a[1]-a[0])\n",
    "allSum = len(a)*(a[0]+a[len(a)-1])//2"
   ]
  },
  {
   "cell_type": "code",
   "execution_count": 54,
   "id": "c689c027",
   "metadata": {},
   "outputs": [
    {
     "name": "stdout",
     "output_type": "stream",
     "text": [
      "a1 입력: 5\n",
      "공차 입력: 4\n",
      "n 입력 : 7\n",
      "1번째 항의 값: 5\n",
      "2번째 항의 값: 9\n",
      "3번째 항의 값: 13\n",
      "4번째 항의 값: 17\n",
      "5번째 항의 값: 21\n",
      "6번째 항의 값: 25\n",
      "7번째 항의 값: 29\n",
      "7번째 항의 값: 29\n"
     ]
    }
   ],
   "source": [
    "inputN1 = int(input(\"a1 입력: \"))\n",
    "inputD = int(input(\"공차 입력: \"))\n",
    "inputN = int(input(\"n 입력 : \"))\n",
    "\n",
    "valueD = 0\n",
    "n = 1\n",
    "\n",
    "while n <= inputN:\n",
    "    \n",
    "    if n == 1:\n",
    "        valueN = inputN1\n",
    "        print(\"{}번째 항의 값: {}\".format(n, valueN))\n",
    "        n += 1\n",
    "        continue\n",
    "        \n",
    "    valueN += inputD\n",
    "    print(\"{}번째 항의 값: {}\".format(n, valueN))\n",
    "    n += 1\n",
    "    \n",
    "print(\"{}번째 항의 값: {}\".format(inputN, valueN))\n",
    "    \n",
    "    "
   ]
  },
  {
   "cell_type": "code",
   "execution_count": 53,
   "id": "77a44111",
   "metadata": {},
   "outputs": [
    {
     "name": "stdout",
     "output_type": "stream",
     "text": [
      "a1 입력: 5\n",
      "공차 입력: 4\n",
      "n 입력 : 7\n",
      "7번째 항의 값: 29\n",
      "7번째 까지의 합: 119\n"
     ]
    }
   ],
   "source": [
    "inputN1 = int(input(\"a1 입력: \"))\n",
    "inputD = int(input(\"공차 입력: \"))\n",
    "inputN = int(input(\"n 입력 : \"))\n",
    "\n",
    "valueN = inputN1 + (inputN-1)*inputD\n",
    "sumN = inputN*(inputN1 + valueN) / 2\n",
    "print(\"{}번째 항의 값: {}\".format(inputN, valueN))\n",
    "print(\"{}번째 까지의 합: {}\".format(inputN, int(sumN)))"
   ]
  },
  {
   "cell_type": "markdown",
   "id": "23ab8a91",
   "metadata": {},
   "source": [
    "# 등비 수열\n",
    "등비 수열의 일반항 ➡️ `a1 * (r**(n-1))` <br>\n",
    "등비 중항 ➡️ `int((a[3]*a[5])**(1/2))` <br>\n",
    "등비 수열의 합 ➡️ `int(a1 * abs(1-r**n) / abs(1-r))`"
   ]
  },
  {
   "cell_type": "code",
   "execution_count": 19,
   "id": "8064867d",
   "metadata": {},
   "outputs": [],
   "source": [
    "a = [2, 6, 18, 54, 162, 486, 1458, 4374]\n",
    "a1 = a[0]\n",
    "n = len(a)\n",
    "r = 3\n",
    "\n",
    "normal = a1 * (3**(n-1))\n",
    "midValue = int((a[3]*a[5])**(1/2))\n",
    "allsum = int(a1 * abs(1-r**n) / abs(1-r))"
   ]
  },
  {
   "cell_type": "code",
   "execution_count": 22,
   "id": "3fc5fc06",
   "metadata": {},
   "outputs": [
    {
     "name": "stdout",
     "output_type": "stream",
     "text": [
      "a1 입력: 2\n",
      "공비 입력: 2\n",
      "n 입력: 7\n",
      "1번째 항의 값: 2\n",
      "2번째 항의 값: 4\n",
      "3번째 항의 값: 8\n",
      "4번째 항의 값: 16\n",
      "5번째 항의 값: 32\n",
      "6번째 항의 값: 64\n",
      "7번째 항의 값: 128\n",
      "128번째 항의 값: 128\n"
     ]
    }
   ],
   "source": [
    "inputN1 = int(input(\"a1 입력: \"))\n",
    "inputR = int(input(\"공비 입력: \"))\n",
    "inputN = int(input(\"n 입력: \"))\n",
    "\n",
    "valueN = 0\n",
    "n = 1\n",
    "\n",
    "while n <= inputN:\n",
    "    \n",
    "    if n == 1:\n",
    "        valueN = inputN1\n",
    "        print(\"{}번째 항의 값: {}\".format(n, valueN))\n",
    "        n += 1\n",
    "        continue\n",
    "    \n",
    "    valueN *= inputR\n",
    "    print(\"{}번째 항의 값: {}\".format(n, valueN))\n",
    "    n += 1 \n",
    "print(\"{}번째 항의 값: {}\".format(valueN, valueN))"
   ]
  },
  {
   "cell_type": "code",
   "execution_count": 23,
   "id": "72a77df2",
   "metadata": {},
   "outputs": [
    {
     "name": "stdout",
     "output_type": "stream",
     "text": [
      "a1 입력: 2\n",
      "공비 입력: 2\n",
      "n 입력: 7\n",
      "128번째 항의 값: 128\n"
     ]
    }
   ],
   "source": [
    "inputN1 = int(input(\"a1 입력: \"))\n",
    "inputR = int(input(\"공비 입력: \"))\n",
    "inputN = int(input(\"n 입력: \"))\n",
    "\n",
    "valueN = inputN1 * (inputR ** (inputN-1))\n",
    "print(\"{}번째 항의 값: {}\".format(valueN, valueN))"
   ]
  },
  {
   "cell_type": "code",
   "execution_count": 24,
   "id": "9e83fe93",
   "metadata": {},
   "outputs": [
    {
     "name": "stdout",
     "output_type": "stream",
     "text": [
      "a1 입력: 5\n",
      "공비 입력: 3\n",
      "n 입력: 7\n",
      "1번째 항의 값: 5\n",
      "2번째 항까지의 합: 20\n",
      "3번째 항까지의 합: 65\n",
      "4번째 항까지의 합: 200\n",
      "5번째 항까지의 합: 605\n",
      "6번째 항까지의 합: 1820\n",
      "7번째 항까지의 합: 5465\n",
      "7번째 항의 값: 5465\n"
     ]
    }
   ],
   "source": [
    "inputN1 = int(input(\"a1 입력: \"))\n",
    "inputR = int(input(\"공비 입력: \"))\n",
    "inputN = int(input(\"n 입력: \"))\n",
    "\n",
    "valueN = 0\n",
    "sumN = 0\n",
    "n = 1\n",
    "\n",
    "while n <= inputN:\n",
    "    \n",
    "    if n == 1:\n",
    "        valueN = inputN1\n",
    "        sumN += valueN\n",
    "        print(\"{}번째 항까지의 합: {}\".format(n, sumN))\n",
    "        n += 1\n",
    "        continue\n",
    "    \n",
    "    valueN *= inputR\n",
    "    sumN += valueN\n",
    "    print(\"{}번째 항까지의 합: {}\".format(n, sumN))\n",
    "    n += 1 \n",
    "print(\"{}번째 항까지의 합: {}\".format(inputN, sumN))"
   ]
  },
  {
   "cell_type": "code",
   "execution_count": 26,
   "id": "7cb9de20",
   "metadata": {},
   "outputs": [
    {
     "name": "stdout",
     "output_type": "stream",
     "text": [
      "a1 입력: 5\n",
      "공비 입력: 3\n",
      "n 입력: 7\n",
      "7번째 항까지의 합: 5465\n"
     ]
    }
   ],
   "source": [
    "inputN1 = int(input(\"a1 입력: \"))\n",
    "inputR = int(input(\"공비 입력: \"))\n",
    "inputN = int(input(\"n 입력: \"))\n",
    "\n",
    "sumN = inputN1 * (1 - (inputR**inputN)) / (1-inputR)\n",
    "print(\"{}번째 항까지의 합: {}\".format(inputN, int(sumN)))"
   ]
  },
  {
   "cell_type": "markdown",
   "id": "17aabda9",
   "metadata": {},
   "source": [
    "# 시그마 ( Σ ) 란?"
   ]
  },
  {
   "cell_type": "code",
   "execution_count": 27,
   "id": "9a76dc4b",
   "metadata": {},
   "outputs": [
    {
     "data": {
      "text/plain": [
       "4374"
      ]
     },
     "execution_count": 27,
     "metadata": {},
     "output_type": "execute_result"
    }
   ],
   "source": [
    "a = [2, 6, 18, 54, 162, 486, 1458, 4374]\n",
    "a1 = a[0] \n",
    "r = 3\n",
    "k = len(a)-1\n",
    "\n",
    "a1*(r**(k))"
   ]
  },
  {
   "cell_type": "code",
   "execution_count": 31,
   "id": "1b2b1313",
   "metadata": {},
   "outputs": [
    {
     "name": "stdout",
     "output_type": "stream",
     "text": [
      "a1 입력: 2\n",
      "공차 입력: 3\n",
      "n 입력: 8\n",
      "8번째 항까지의 합: 100\n"
     ]
    }
   ],
   "source": [
    "inputN1 = int(input(\"a1 입력: \"))\n",
    "inputD = int(input(\"공차 입력: \"))\n",
    "inputN = int(input(\"n 입력: \"))\n",
    "\n",
    "valueN = 0\n",
    "sumN = 0\n",
    "\n",
    "# 등차 수열(합) 공식: sn = n(a1+an) / 2\n",
    "valueN = inputN1 + (inputN - 1) * inputD\n",
    "sumN = inputN * (inputN1 + valueN) / 2\n",
    "print(\"{}번째 항까지의 합: {}\".format(inputN, int(sumN)))"
   ]
  },
  {
   "cell_type": "code",
   "execution_count": 33,
   "id": "98f7bb41",
   "metadata": {},
   "outputs": [
    {
     "name": "stdout",
     "output_type": "stream",
     "text": [
      "a1 입력: 2\n",
      "공비 입력: 3\n",
      "n 입력: 8\n",
      "8번째 항까지의 합: 6560\n"
     ]
    }
   ],
   "source": [
    "inputN1 = int(input(\"a1 입력: \"))\n",
    "inputR = int(input(\"공비 입력: \"))\n",
    "inputN = int(input(\"n 입력: \"))\n",
    "\n",
    "valueN = 0\n",
    "sumN = 0\n",
    "\n",
    "# 등비 수열(합) 공식: sn = a1 * (1 - r^n) / (1-r)\n",
    "sumN = inputN1 * (1 - (inputR**inputN)) / (1 - inputR)\n",
    "print(\"{}번째 항까지의 합: {}\".format(inputN, int(sumN)))"
   ]
  },
  {
   "cell_type": "markdown",
   "id": "8454fc55",
   "metadata": {},
   "source": [
    "# 계차 순열"
   ]
  },
  {
   "cell_type": "code",
   "execution_count": 37,
   "id": "92a3bd95",
   "metadata": {},
   "outputs": [
    {
     "name": "stdout",
     "output_type": "stream",
     "text": [
      "a1 입력: 3\n",
      "an 입력: 7\n",
      "B1 입력: 4\n",
      "Bn 공차 입력: 2\n",
      "an의 1번째 항의 값: 3\n",
      "bn의 1번째 항의 값: 4\n",
      "an의 2번째 항의 값: 7\n",
      "bn의 2번째 항의 값: 6\n",
      "an의 3번째 항의 값: 13\n",
      "bn의 3번째 항의 값: 8\n",
      "an의 4번째 항의 값: 21\n",
      "bn의 4번째 항의 값: 10\n",
      "an의 5번째 항의 값: 31\n",
      "bn의 5번째 항의 값: 12\n",
      "an의 6번째 항의 값: 43\n",
      "bn의 6번째 항의 값: 14\n",
      "an의 7번째 항의 값: 57\n",
      "bn의 7번째 항의 값: 16\n",
      "an의 7번째 항의 값: 57\n",
      "bn의 7번째 항의 값: 16\n"
     ]
    }
   ],
   "source": [
    "an = {3, 7, 13, 21, 31, 43, 57}\n",
    "bn = {4, 6, 8, 10, 12, 14}\n",
    "\n",
    "inputAN1 = int(input(\"a1 입력: \"))\n",
    "inputAN = int(input(\"an 입력: \"))\n",
    "\n",
    "inputBN1 = int(input(\"B1 입력: \"))\n",
    "inputBD = int(input(\"Bn 공차 입력: \"))\n",
    "\n",
    "valueAN = 0\n",
    "valueBN = 0\n",
    "\n",
    "n = 1\n",
    "while n <= inputAN:\n",
    "    \n",
    "    if n == 1:\n",
    "        valueAN = inputAN1\n",
    "        valueBN = inputBN1\n",
    "        print(\"an의 {}번째 항의 값: {}\".format(n, valueAN))\n",
    "        print(\"bn의 {}번째 항의 값: {}\".format(n, valueBN))\n",
    "        n += 1\n",
    "        continue\n",
    "        \n",
    "    valueAN = valueAN + valueBN\n",
    "    valueBN = valueBN + inputBD\n",
    "    print(\"an의 {}번째 항의 값: {}\".format(n, valueAN))\n",
    "    print(\"bn의 {}번째 항의 값: {}\".format(n, valueBN))\n",
    "    n += 1\n",
    "    \n",
    "print(\"an의 {}번째 항의 값: {}\".format(inputAN, valueAN))\n",
    "print(\"bn의 {}번째 항의 값: {}\".format(inputAN, valueBN))"
   ]
  },
  {
   "cell_type": "code",
   "execution_count": 38,
   "id": "e5023a8b",
   "metadata": {},
   "outputs": [
    {
     "name": "stdout",
     "output_type": "stream",
     "text": [
      "a1 입력: 3\n",
      "an 입력: 7\n",
      "an의 7번째 항의 값: 57\n"
     ]
    }
   ],
   "source": [
    "inputAN1 = int(input(\"a1 입력: \"))\n",
    "inputAN = int(input(\"an 입력: \"))\n",
    "\n",
    "valueAN = inputAN ** 2 + inputAN + 1\n",
    "print(\"an의 {}번째 항의 값: {}\".format(inputAN, valueAN))"
   ]
  },
  {
   "cell_type": "markdown",
   "id": "7c6decc9",
   "metadata": {},
   "source": [
    "# 피보나치 수열\n",
    "a1=1, a2=1이고 n>2 일 때 an = an-2 + an-1 이다."
   ]
  },
  {
   "cell_type": "code",
   "execution_count": 54,
   "id": "16da7dd2",
   "metadata": {},
   "outputs": [
    {
     "name": "stdout",
     "output_type": "stream",
     "text": [
      "n 입력: 4\n",
      "4번째 항의 값: 3\n",
      "4번째 항까지의 합: 7\n"
     ]
    }
   ],
   "source": [
    "inputN = int(input(\"n 입력: \"))\n",
    "\n",
    "valueN = 0\n",
    "sumN = 0\n",
    "\n",
    "valuePreN2 = 0\n",
    "valuePreN1 = 0\n",
    "\n",
    "n = 1\n",
    "\n",
    "while n <= inputN:\n",
    "    if n == 1 or n == 2:\n",
    "        valueN = 1\n",
    "        valuePreN2 = valueN\n",
    "        valuePreN1 = valueN\n",
    "        sumN += valueN\n",
    "        n += 1\n",
    "    \n",
    "    else:\n",
    "        valueN = valuePreN2 + valuePreN1\n",
    "        valuePreN2 = valuePreN1\n",
    "        valuePreN1 = valueN\n",
    "        sumN += valueN\n",
    "        n += 1\n",
    "        \n",
    "print(\"{}번째 항의 값: {}\".format(inputN, valueN))\n",
    "print(\"{}번째 항까지의 합: {}\".format(inputN, sumN))"
   ]
  },
  {
   "cell_type": "markdown",
   "id": "77a29bdd",
   "metadata": {},
   "source": [
    "# 팩토리얼\n",
    "0!➡️ 1 = 1 <br>\n",
    "1! ➡️ 1 = 1 <br>\n",
    "2! ➡️ 1 * 2 = 2 <br>\n",
    "3! ➡️ 1 * 2 * 3 = 6 <br>\n",
    "4! ➡️ 1 * 2 * 3 * 4 = 24 <br>\n",
    "5! ➡️ 1 * 2 * 3 * 4 * 5 = 120 <br>\n",
    "6! ➡️  1 * 2 * 3 * 4 * 5 * 6 = 720 <br>\n",
    "7! ➡️  1 * 2 * 3 * 4 * 5 * 6 * 7 = 5040"
   ]
  },
  {
   "cell_type": "code",
   "execution_count": 57,
   "id": "9118c11c",
   "metadata": {},
   "outputs": [
    {
     "name": "stdout",
     "output_type": "stream",
     "text": [
      "n 입력: 5\n",
      "5 팩토리얼: 120\n"
     ]
    }
   ],
   "source": [
    "inputN = int(input(\"n 입력: \"))\n",
    "\n",
    "result = 1\n",
    "\n",
    "for n in range(1, inputN+1):\n",
    "    result *= n\n",
    "    \n",
    "print(\"{} 팩토리얼: {}\".format(inputN, result))"
   ]
  },
  {
   "cell_type": "code",
   "execution_count": 58,
   "id": "8ecb95bb",
   "metadata": {},
   "outputs": [
    {
     "name": "stdout",
     "output_type": "stream",
     "text": [
      "n 입력: 5\n",
      "5 팩토리얼: 120\n"
     ]
    }
   ],
   "source": [
    "inputN = int(input(\"n 입력: \"))\n",
    "\n",
    "result = 1\n",
    "n = 1\n",
    "\n",
    "while n <= inputN:\n",
    "    result *= n\n",
    "    n += 1\n",
    "    \n",
    "    \n",
    "print(\"{} 팩토리얼: {}\".format(inputN, result))"
   ]
  },
  {
   "cell_type": "code",
   "execution_count": 60,
   "id": "6219ced9",
   "metadata": {},
   "outputs": [
    {
     "name": "stdout",
     "output_type": "stream",
     "text": [
      "n 입력: 6\n",
      "6 팩토리얼: 720\n"
     ]
    }
   ],
   "source": [
    "inputN = int(input(\"n 입력: \"))\n",
    "\n",
    "def factorialFun(n):\n",
    "    if n == 1 : return 1\n",
    "    \n",
    "    return n * factorialFun(n - 1)\n",
    "\n",
    "print(\"{} 팩토리얼: {}\".format(inputN, factorialFun(inputN)))"
   ]
  },
  {
   "cell_type": "markdown",
   "id": "89005a45",
   "metadata": {},
   "source": [
    "# 군수열\n",
    "다음 수열을 보고 n번째 항의 값을 출력하는 프로그램을 만들어보자.\n",
    "1, 1, 2, 1, 2, 3, 1, 2, 3, 4, 1, 2, 3, 4, 5, ..."
   ]
  },
  {
   "cell_type": "code",
   "execution_count": 64,
   "id": "57dea0cc",
   "metadata": {},
   "outputs": [
    {
     "name": "stdout",
     "output_type": "stream",
     "text": [
      "n항 입력: 15\n",
      "1 \n",
      "1, 2 \n",
      "1, 2, 3 \n",
      "1, 2, 3, 4 \n",
      "1, 2, 3, 4, 5 \n",
      "15항 : 5\n"
     ]
    }
   ],
   "source": [
    "inputN = int(input(\"n항 입력: \"))\n",
    "\n",
    "flag = True # 플래그 변수\n",
    "n = 1 # 군 \n",
    "nCnt = 1 # n항의 숫자\n",
    "searchN = 0 # 찾고자 하는 항의 변수\n",
    "\n",
    "while flag: # 군 안에서의 반복\n",
    "     \n",
    "    for i in range(1, (n+1)): \n",
    "        if i == n:\n",
    "            print(\"{} \".format(i), end='')\n",
    "        else:\n",
    "            print(\"{}, \".format(i), end='')\n",
    "        \n",
    "        nCnt += 1 \n",
    "        if (nCnt > inputN): # 사용자가 원하는 항을 찾아야 합니다.\n",
    "            searchN = i\n",
    "            flag = False\n",
    "            break\n",
    "            \n",
    "    print()\n",
    "    n += 1\n",
    "    \n",
    "print(\"{}항 : {}\".format(inputN, searchN))"
   ]
  },
  {
   "cell_type": "code",
   "execution_count": 4,
   "id": "73042282",
   "metadata": {},
   "outputs": [
    {
     "name": "stdout",
     "output_type": "stream",
     "text": [
      "n항 입력: 25\n",
      "1/1  \n",
      "1/2 2/1  \n",
      "1/3 2/2 3/1  \n",
      "1/4 2/3 3/2 4/1  \n",
      "1/5 2/4 3/3 4/2 5/1  \n",
      "1/6 2/5 3/4 4/3 5/2 6/1  \n",
      "1/7 2/6 3/5 4/4 \n",
      "25항: 4/4\n"
     ]
    }
   ],
   "source": [
    "inputN = int(input(\"n항 입력: \"))\n",
    "\n",
    "flag = True # 플래그 변수\n",
    "n = 1 # 군 \n",
    "nCnt = 1 # n항의 숫자\n",
    "searchNC = 0 # 찾고자 하는 항의 변수\n",
    "searchNP = 0\n",
    "\n",
    "while flag: # 군 안에서의 반복\n",
    "     \n",
    "    for i in range(1, (n+1)): \n",
    "        if i == n:\n",
    "            print(\"{}/{}  \".format(i, (n - i + 1)), end='')\n",
    "        else:\n",
    "            print(\"{}/{} \".format(i, (n - i + 1)), end='')\n",
    "        \n",
    "        nCnt += 1 \n",
    "        if (nCnt > inputN): # 사용자가 원하는 항을 찾아야 합니다.\n",
    "            searchNC = i\n",
    "            searchNP = n - i + 1\n",
    "            \n",
    "            flag = False\n",
    "            break\n",
    "            \n",
    "    print()\n",
    "    n += 1\n",
    "    \n",
    "print(\"{}항: {}/{}\".format(inputN, searchNC, searchNP))"
   ]
  },
  {
   "cell_type": "markdown",
   "id": "4fc37cec",
   "metadata": {},
   "source": [
    "# 순열\n",
    "n개에서 r개를 선택하여 나열하는 경우의 수"
   ]
  },
  {
   "cell_type": "code",
   "execution_count": 1,
   "id": "9269b5d9",
   "metadata": {},
   "outputs": [
    {
     "name": "stdout",
     "output_type": "stream",
     "text": [
      "numN 입력: 8\n",
      "numR 입력: 3\n",
      "n : 8\n",
      "n : 7\n",
      "n : 6\n",
      "result: 336\n"
     ]
    }
   ],
   "source": [
    "numN = int(input(\"numN 입력: \"))\n",
    "numR = int(input(\"numR 입력: \"))\n",
    "result = 1\n",
    "\n",
    "for n in range(numN, (numN-numR), -1):\n",
    "    print(\"n : {}\".format(n))\n",
    "    result = result * n\n",
    "    \n",
    "print(\"result: {}\".format(result))"
   ]
  },
  {
   "cell_type": "markdown",
   "id": "cc0067e4",
   "metadata": {},
   "source": [
    "# 원 순열\n",
    "시작과 끝의 구분이 없는 순열 <br>\n",
    "n!/n or (n-1)!"
   ]
  },
  {
   "cell_type": "markdown",
   "id": "f497a0b5",
   "metadata": {},
   "source": [
    "4명의 친구가 원탁 테이블에 앉을 수 있는 순서를 계산해보자."
   ]
  },
  {
   "cell_type": "code",
   "execution_count": 2,
   "id": "68be94f2",
   "metadata": {},
   "outputs": [
    {
     "name": "stdout",
     "output_type": "stream",
     "text": [
      "친구 수 입력: 4\n",
      "result: 6\n"
     ]
    }
   ],
   "source": [
    "n = int(input(\"친구 수 입력: \"))\n",
    "result = 1\n",
    "\n",
    "for i in range(1, n):\n",
    "    result *= i\n",
    "    \n",
    "print(\"result: {}\".format(result))"
   ]
  },
  {
   "cell_type": "markdown",
   "id": "84fa85b6",
   "metadata": {},
   "source": [
    "# 조합\n",
    "nPr/r! 또는 n!/r!(n-r)!"
   ]
  },
  {
   "cell_type": "code",
   "execution_count": 2,
   "id": "ce51d3ac",
   "metadata": {},
   "outputs": [
    {
     "name": "stdout",
     "output_type": "stream",
     "text": [
      "numN 입력: 8\n",
      "numR 입력: 3\n",
      "n : 8\n",
      "n : 7\n",
      "n : 6\n",
      "resultP : 336\n",
      "n : 3\n",
      "n : 2\n",
      "n : 1\n",
      "resultR : 6\n",
      "resultC : 56\n"
     ]
    }
   ],
   "source": [
    "numN = int(input(\"numN 입력: \"))\n",
    "numR = int(input(\"numR 입력: \"))\n",
    "resultP = 1\n",
    "resultR = 1\n",
    "resultC = 1\n",
    "\n",
    "for n in range(numN, (numN-numR), -1): # 순열 구하기\n",
    "    print(\"n : {}\".format(n))\n",
    "    resultP = resultP * n\n",
    "\n",
    "print(\"resultP : {}\".format(resultP))\n",
    "\n",
    "for n in range(numR, 0, -1):\n",
    "    print(\"n : {}\".format(n))\n",
    "    resultR = resultR * n\n",
    "\n",
    "print(\"resultR : {}\".format(resultR))\n",
    "\n",
    "resultC = int(resultP / resultR)\n",
    "print(\"resultC : {}\".format(resultC))"
   ]
  },
  {
   "attachments": {
    "image.png": {
     "image/png": "[encoded data removed]"
    }
   },
   "cell_type": "markdown",
   "id": "07545eb0",
   "metadata": {},
   "source": [
    "# 조합 응용\n",
    "카드 5장 중 2장을 선택했을 때 삼각형과 사각형이 동시에 선택될 수 있는 확률은?\n",
    "![image.png](attachment:image.png)"
   ]
  },
  {
   "cell_type": "code",
   "execution_count": 5,
   "id": "d2525ec0",
   "metadata": {},
   "outputs": [
    {
     "name": "stdout",
     "output_type": "stream",
     "text": [
      "numN 입력: 5\n",
      "numR 입력: 2\n",
      "n : 5\n",
      "n : 4\n",
      "resultP : 20\n",
      "n : 2\n",
      "n : 1\n",
      "resultR : 2\n",
      "resultC : 10\n",
      "10.0%\n"
     ]
    }
   ],
   "source": [
    "numN = int(input(\"numN 입력: \"))\n",
    "numR = int(input(\"numR 입력: \"))\n",
    "resultP = 1\n",
    "resultR = 1\n",
    "resultC = 1\n",
    "\n",
    "for n in range(numN, (numN-numR), -1): # 순열 구하기\n",
    "    print(\"n : {}\".format(n))\n",
    "    resultP = resultP * n\n",
    "\n",
    "print(\"resultP : {}\".format(resultP))\n",
    "\n",
    "for n in range(numR, 0, -1):\n",
    "    print(\"n : {}\".format(n))\n",
    "    resultR = resultR * n\n",
    "\n",
    "print(\"resultR : {}\".format(resultR))\n",
    "\n",
    "resultC = int(resultP / resultR)\n",
    "print(\"resultC : {}\".format(resultC))\n",
    "\n",
    "result = (1/resultC) * 100\n",
    "print(\"{}%\".format(round(result, 2)))"
   ]
  },
  {
   "cell_type": "markdown",
   "id": "b422562c",
   "metadata": {},
   "source": [
    "# 확률\n",
    "모든 사건에서 특정 사건이 일어날 수 있는 수를 나타낸 것"
   ]
  },
  {
   "cell_type": "markdown",
   "id": "b503625e",
   "metadata": {},
   "source": [
    "박스에 \"꽝\"이 적힌 종이가 4장 있고, \"선물\"이 적힌 종이가 3장 있을 때, <br> \n",
    "파이썬을 이용해서 \"꽝\" 2장과 \"선물\" 1장을 뽑는 확률(%)을 출력하자."
   ]
  },
  {
   "cell_type": "code",
   "execution_count": null,
   "id": "e92252e8",
   "metadata": {},
   "outputs": [],
   "source": [
    "def proFun():\n",
    "    \n",
    "\n",
    "    numN = int(input(\"numN 입력: \"))\n",
    "    numR = int(input(\"numR 입력: \"))\n",
    "\n",
    "    resultP = 1\n",
    "    resultR = 1\n",
    "    resultC = 1\n",
    "\n",
    "    for n in range(numN, (numN - numR), -1):\n",
    "        resultP = resultP * n\n",
    "\n",
    "    print(\"resultP: {}\".format(resultP))\n",
    "\n",
    "    for n in range(numR, 0, -1):\n",
    "        resultR = resultR * n\n",
    "\n",
    "    print(\"resultR: {}\".format(resultR))\n",
    "\n",
    "    resultC = int(resultP / resultR)\n",
    "    print(\"resultC: {}\".format(resultC))\n",
    "    \n",
    "    return resultC\n",
    "\n",
    "smaple = proFun() # 모든 사건의 경우의 수를 sample 이라고 합니다.\n",
    "print(\"sample: {}\".format(sample))\n",
    "\n",
    "event1 = proFun() # 특정 사건의 경우의 수를 event 이라고 합니다.\n",
    "print(\"event1: {}\".format(event1))\n",
    "\n",
    "event2 = proFun() # 특정 사건의 경우의 수를 event 이라고 합니다.\n",
    "print(\"event1: {}\".format(event2))\n",
    "\n",
    "probability = (event1 * event2) / sample  # 확률값\n",
    "print(\"probability: {}%\".format(round(probability * 100)))"
   ]
  },
  {
   "cell_type": "code",
   "execution_count": null,
   "id": "53c4c840",
   "metadata": {},
   "outputs": [],
   "source": []
  },
  {
   "cell_type": "code",
   "execution_count": null,
   "id": "18af5661",
   "metadata": {},
   "outputs": [],
   "source": []
  },
  {
   "cell_type": "code",
   "execution_count": null,
   "id": "6dac1e94",
   "metadata": {},
   "outputs": [],
   "source": []
  },
  {
   "cell_type": "code",
   "execution_count": null,
   "id": "c46d44a5",
   "metadata": {},
   "outputs": [],
   "source": []
  },
  {
   "cell_type": "code",
   "execution_count": null,
   "id": "de6dd2dd",
   "metadata": {},
   "outputs": [],
   "source": []
  },
  {
   "cell_type": "code",
   "execution_count": null,
   "id": "ef7ca463",
   "metadata": {},
   "outputs": [],
   "source": []
  },
  {
   "cell_type": "code",
   "execution_count": null,
   "id": "aad8e416",
   "metadata": {},
   "outputs": [],
   "source": []
  },
  {
   "cell_type": "code",
   "execution_count": null,
   "id": "f67e8bdb",
   "metadata": {},
   "outputs": [],
   "source": []
  },
  {
   "cell_type": "code",
   "execution_count": null,
   "id": "771d02b8",
   "metadata": {},
   "outputs": [],
   "source": []
  },
  {
   "cell_type": "code",
   "execution_count": null,
   "id": "52e5482e",
   "metadata": {},
   "outputs": [],
   "source": []
  },
  {
   "cell_type": "code",
   "execution_count": null,
   "id": "7e809183",
   "metadata": {},
   "outputs": [],
   "source": []
  },
  {
   "cell_type": "code",
   "execution_count": null,
   "id": "1f88bfd3",
   "metadata": {},
   "outputs": [],
   "source": []
  },
  {
   "cell_type": "code",
   "execution_count": null,
   "id": "2bce70e3",
   "metadata": {},
   "outputs": [],
   "source": []
  }
 ],
 "metadata": {
  "kernelspec": {
   "display_name": "Python 3 (ipykernel)",
   "language": "python",
   "name": "python3"
  },
  "language_info": {
   "codemirror_mode": {
    "name": "ipython",
    "version": 3
   },
   "file_extension": ".py",
   "mimetype": "text/x-python",
   "name": "python",
   "nbconvert_exporter": "python",
   "pygments_lexer": "ipython3",
   "version": "3.9.12"
  }
 },
 "nbformat": 4,
 "nbformat_minor": 5
}
